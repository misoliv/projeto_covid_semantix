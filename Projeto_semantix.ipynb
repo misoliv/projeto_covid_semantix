{
 "cells": [
  {
   "cell_type": "markdown",
   "metadata": {},
   "source": [
    "CASOS RECUPERADOS e ACOMPANHAMENTO"
   ]
  },
  {
   "cell_type": "code",
   "execution_count": 1,
   "metadata": {},
   "outputs": [],
   "source": [
    "from pyspark.sql.types import *"
   ]
  },
  {
   "cell_type": "code",
   "execution_count": 2,
   "metadata": {},
   "outputs": [],
   "source": [
    "from pyspark.sql import SparkSession"
   ]
  },
  {
   "cell_type": "code",
   "execution_count": 10,
   "metadata": {},
   "outputs": [],
   "source": [
    "dados_sem_schema = spark.read.csv(\"/user/milena/covid/dados.csv\")"
   ]
  },
  {
   "cell_type": "code",
   "execution_count": 11,
   "metadata": {},
   "outputs": [
    {
     "name": "stdout",
     "output_type": "stream",
     "text": [
      "root\n",
      " |-- _c0: string (nullable = true)\n",
      " |-- _c1: string (nullable = true)\n",
      " |-- _c2: string (nullable = true)\n",
      " |-- _c3: string (nullable = true)\n",
      " |-- _c4: string (nullable = true)\n",
      " |-- _c5: string (nullable = true)\n",
      " |-- _c6: string (nullable = true)\n",
      " |-- _c7: string (nullable = true)\n",
      " |-- _c8: string (nullable = true)\n",
      " |-- _c9: string (nullable = true)\n",
      " |-- _c10: string (nullable = true)\n",
      "\n",
      "None\n",
      "+------+------+----------+---------+--------+------+-------+-------+-----------+--------------+---------+\n",
      "|   _c0|   _c1|       _c2|      _c3|     _c4|   _c5|    _c6|    _c7|        _c8|           _c9|     _c10|\n",
      "+------+------+----------+---------+--------+------+-------+-------+-----------+--------------+---------+\n",
      "|regiao|estado|      data|      pop|  casosA|casosN|obitosA|obitosN|recuperados|acompanhamento|municipio|\n",
      "|Brasil|  null|2022-01-01|210147125|22291507|  3986| 619105|     49|   21581668|         90734|     null|\n",
      "|Brasil|  null|2022-01-02|210147125|22293228|  1721| 619133|     28|   21581717|         92378|     null|\n",
      "|Brasil|  null|2022-01-03|210147125|22305078| 11850| 619209|     76|   21591847|         94022|     null|\n",
      "|Brasil|  null|2022-01-04|210147125|22323837| 18759| 619384|    175|   21603954|        100499|     null|\n",
      "+------+------+----------+---------+--------+------+-------+-------+-----------+--------------+---------+\n",
      "only showing top 5 rows\n",
      "\n"
     ]
    }
   ],
   "source": [
    "print(dados_sem_schema.printSchema())\n",
    "dados_sem_schema.show(5)"
   ]
  },
  {
   "cell_type": "code",
   "execution_count": null,
   "metadata": {},
   "outputs": [],
   "source": []
  },
  {
   "cell_type": "code",
   "execution_count": 3,
   "metadata": {},
   "outputs": [],
   "source": [
    "estrutura_dados = [\n",
    "    \n",
    "    StructField(\"regiao\", IntegerType()),\n",
    "    StructField(\"estado\", IntegerType()),\n",
    "    StructField(\"data\", IntegerType()),\n",
    "    StructField(\"pop\", IntegerType()),\n",
    "    StructField(\"casosA\", IntegerType()),\n",
    "    StructField(\"casosN\", IntegerType()),\n",
    "    StructField(\"obitosA\", IntegerType()),\n",
    "    StructField(\"obitosN\", IntegerType()),\n",
    "    StructField(\"recuperados\", IntegerType()),\n",
    "    StructField(\"acompanhamento\", IntegerType()) \n",
    "    \n",
    "]\n",
    "\n",
    "schema_names = StructType(estrutura_dados)"
   ]
  },
  {
   "cell_type": "code",
   "execution_count": 8,
   "metadata": {},
   "outputs": [],
   "source": [
    "tabela1 = spark.read.csv(\"/user/milena/covid/dados.csv\",schema=schema_names)"
   ]
  },
  {
   "cell_type": "code",
   "execution_count": 9,
   "metadata": {},
   "outputs": [
    {
     "name": "stdout",
     "output_type": "stream",
     "text": [
      "+-------------------+----------------+\n",
      "|sum(acompanhamento)|sum(recuperados)|\n",
      "+-------------------+----------------+\n",
      "|          172064706|      4925750922|\n",
      "+-------------------+----------------+\n",
      "\n"
     ]
    }
   ],
   "source": [
    "tabela1 = tabela1.agg({'acompanhamento': 'sum', 'recuperados': 'sum'}).show()"
   ]
  },
  {
   "cell_type": "code",
   "execution_count": null,
   "metadata": {},
   "outputs": [],
   "source": []
  },
  {
   "cell_type": "code",
   "execution_count": null,
   "metadata": {},
   "outputs": [],
   "source": []
  },
  {
   "cell_type": "code",
   "execution_count": null,
   "metadata": {},
   "outputs": [],
   "source": []
  }
 ],
 "metadata": {
  "kernelspec": {
   "display_name": "PySpark",
   "language": "python",
   "name": "pyspark"
  },
  "language_info": {
   "codemirror_mode": {
    "name": "ipython",
    "version": 3
   },
   "file_extension": ".py",
   "mimetype": "text/x-python",
   "name": "python",
   "nbconvert_exporter": "python",
   "pygments_lexer": "ipython3",
   "version": "3.6.10"
  }
 },
 "nbformat": 4,
 "nbformat_minor": 2
}
