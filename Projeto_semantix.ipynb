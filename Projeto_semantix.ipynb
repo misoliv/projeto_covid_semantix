{
 "cells": [
  {
   "cell_type": "markdown",
   "metadata": {},
   "source": [
    "# Projeto Final Semantix"
   ]
  },
  {
   "cell_type": "code",
   "execution_count": null,
   "metadata": {},
   "outputs": [],
   "source": [
    "# Importar bibliotecas\n",
    "from pyspark.sql.types import *\n",
    "from pyspark.sql.functions import *"
   ]
  },
  {
   "cell_type": "code",
   "execution_count": null,
   "metadata": {},
   "outputs": [],
   "source": [
    "# Criar diretório e enviar os dados para o HDFS\n",
    "\n",
    "!hdfs dfs -mkdir -p /user/milena/covid\n",
    "!hdfs dfs -put /input/dados /user/milena/covid"
   ]
  },
  {
   "cell_type": "code",
   "execution_count": 2,
   "metadata": {},
   "outputs": [
    {
     "name": "stdout",
     "output_type": "stream",
     "text": [
      "Found 5 items\r\n",
      "-rw-r--r--   3 root supergroup   62493275 2022-08-18 00:33 /user/milena/covid/dados/HIST_PAINEL_COVIDBR_2020_Parte1_14ago2022.csv\r\n",
      "-rw-r--r--   3 root supergroup   76520606 2022-08-18 00:33 /user/milena/covid/dados/HIST_PAINEL_COVIDBR_2020_Parte2_14ago2022.csv\r\n",
      "-rw-r--r--   3 root supergroup   91120853 2022-08-18 00:33 /user/milena/covid/dados/HIST_PAINEL_COVIDBR_2021_Parte1_14ago2022.csv\r\n",
      "-rw-r--r--   3 root supergroup   93414239 2022-08-18 00:33 /user/milena/covid/dados/HIST_PAINEL_COVIDBR_2021_Parte2_14ago2022.csv\r\n",
      "-rw-r--r--   3 root supergroup   91807916 2022-08-18 00:33 /user/milena/covid/dados/HIST_PAINEL_COVIDBR_2022_Parte1_14ago2022.csv\r\n"
     ]
    }
   ],
   "source": [
    "!hdfs dfs -ls /user/milena/covid/dados"
   ]
  },
  {
   "cell_type": "code",
   "execution_count": 3,
   "metadata": {},
   "outputs": [],
   "source": [
    "sc = SparkContext"
   ]
  },
  {
   "cell_type": "code",
   "execution_count": 4,
   "metadata": {},
   "outputs": [],
   "source": [
    "# Criando a sessão Spark\n",
    "spark_session = SparkSession.Builder().getOrCreate()"
   ]
  },
  {
   "cell_type": "code",
   "execution_count": 13,
   "metadata": {},
   "outputs": [],
   "source": [
    "# Carrega os dados em um dataframe Spark\n",
    "df_spark = spark_session.read.csv('/user/milena/covid/dados', sep = \";\",inferSchema=True, header=True,ignoreLeadingWhiteSpace=True)"
   ]
  },
  {
   "cell_type": "code",
   "execution_count": 14,
   "metadata": {},
   "outputs": [
    {
     "name": "stdout",
     "output_type": "stream",
     "text": [
      "+------+------+---------+-----+------+--------------+---------------+-------------------+---------+----------------+--------------+----------+---------------+-----------+----------------+---------------------+----------------------+\n",
      "|regiao|estado|municipio|coduf|codmun|codRegiaoSaude|nomeRegiaoSaude|               data|semanaEpi|populacaoTCU2019|casosAcumulado|casosNovos|obitosAcumulado|obitosNovos|Recuperadosnovos|emAcompanhamentoNovos|interior/metropolitana|\n",
      "+------+------+---------+-----+------+--------------+---------------+-------------------+---------+----------------+--------------+----------+---------------+-----------+----------------+---------------------+----------------------+\n",
      "|Brasil|  null|     null|   76|  null|          null|           null|2021-07-01 00:00:00|       26|       210147125|      18622304|     65163|         520095|       2029|        16858632|              1180443|                  null|\n",
      "|Brasil|  null|     null|   76|  null|          null|           null|2021-07-02 00:00:00|       26|       210147125|      18687469|     65165|         521952|       1857|        16931272|              1170937|                  null|\n",
      "|Brasil|  null|     null|   76|  null|          null|           null|2021-07-03 00:00:00|       26|       210147125|      18742025|     54556|         523587|       1635|        16989351|              1176166|                  null|\n",
      "|Brasil|  null|     null|   76|  null|          null|           null|2021-07-04 00:00:00|       27|       210147125|      18769808|     27783|         524417|        830|        17033808|              1184630|                  null|\n",
      "|Brasil|  null|     null|   76|  null|          null|           null|2021-07-05 00:00:00|       27|       210147125|      18792511|     22703|         525112|        695|        17082876|              1162515|                  null|\n",
      "|Brasil|  null|     null|   76|  null|          null|           null|2021-07-06 00:00:00|       27|       210147125|      18855015|     62504|         526892|       1780|        17151673|              1115726|                  null|\n",
      "|Brasil|  null|     null|   76|  null|          null|           null|2021-07-07 00:00:00|       27|       210147125|      18909037|     54022|         528540|       1648|        17262646|              1065477|                  null|\n",
      "|Brasil|  null|     null|   76|  null|          null|           null|2021-07-08 00:00:00|       27|       210147125|      18962762|     53725|         530179|       1639|        17352670|              1027827|                  null|\n",
      "|Brasil|  null|     null|   76|  null|          null|           null|2021-07-09 00:00:00|       27|       210147125|      19020499|     57737|         531688|       1509|        17422854|              1009729|                  null|\n",
      "|Brasil|  null|     null|   76|  null|          null|           null|2021-07-10 00:00:00|       27|       210147125|      19069003|     48504|         532893|       1205|        17479277|              1009534|                  null|\n",
      "+------+------+---------+-----+------+--------------+---------------+-------------------+---------+----------------+--------------+----------+---------------+-----------+----------------+---------------------+----------------------+\n",
      "only showing top 10 rows\n",
      "\n"
     ]
    }
   ],
   "source": [
    "# Visualiza os dados\n",
    "df_spark.show(10)"
   ]
  },
  {
   "cell_type": "code",
   "execution_count": 16,
   "metadata": {},
   "outputs": [
    {
     "name": "stdout",
     "output_type": "stream",
     "text": [
      "root\n",
      " |-- regiao: string (nullable = true)\n",
      " |-- estado: string (nullable = true)\n",
      " |-- municipio: string (nullable = true)\n",
      " |-- coduf: integer (nullable = true)\n",
      " |-- codmun: integer (nullable = true)\n",
      " |-- codRegiaoSaude: integer (nullable = true)\n",
      " |-- nomeRegiaoSaude: string (nullable = true)\n",
      " |-- data: timestamp (nullable = true)\n",
      " |-- semanaEpi: integer (nullable = true)\n",
      " |-- populacaoTCU2019: integer (nullable = true)\n",
      " |-- casosAcumulado: decimal(10,0) (nullable = true)\n",
      " |-- casosNovos: integer (nullable = true)\n",
      " |-- obitosAcumulado: integer (nullable = true)\n",
      " |-- obitosNovos: integer (nullable = true)\n",
      " |-- Recuperadosnovos: integer (nullable = true)\n",
      " |-- emAcompanhamentoNovos: integer (nullable = true)\n",
      " |-- interior/metropolitana: integer (nullable = true)\n",
      "\n",
      "None\n"
     ]
    }
   ],
   "source": [
    "# Mostrar estrutura dos dados\n",
    "\n",
    "print(df_spark.printSchema())"
   ]
  },
  {
   "cell_type": "code",
   "execution_count": 11,
   "metadata": {},
   "outputs": [
    {
     "data": {
      "text/plain": [
       "4642162"
      ]
     },
     "execution_count": 11,
     "metadata": {},
     "output_type": "execute_result"
    }
   ],
   "source": [
    "# Verifica o número de linhas\n",
    "df_spark.count()"
   ]
  },
  {
   "cell_type": "code",
   "execution_count": 17,
   "metadata": {},
   "outputs": [],
   "source": [
    "# Otimizar o hive (particionamento por municipio)\n",
    "\n",
    "df_spark.write.saveAsTable(\"covid_p\", mode=\"overwrite\", partitionBy=\"municipio\")"
   ]
  },
  {
   "cell_type": "code",
   "execution_count": 18,
   "metadata": {},
   "outputs": [
    {
     "name": "stdout",
     "output_type": "stream",
     "text": [
      "Found 1 items\r\n",
      "drwxrwxr-x   - root supergroup          0 2022-08-16 13:28 /user/hive/warehouse/milena.db/dados\r\n"
     ]
    }
   ],
   "source": [
    "!hdfs dfs -ls /user/hive/warehouse/milena.db"
   ]
  },
  {
   "cell_type": "code",
   "execution_count": 19,
   "metadata": {},
   "outputs": [
    {
     "name": "stdout",
     "output_type": "stream",
     "text": [
      "+-----------------------------+\n",
      "|partition                    |\n",
      "+-----------------------------+\n",
      "|municipio=Abadia de Goiás    |\n",
      "|municipio=Abadia dos Dourados|\n",
      "|municipio=Abadiânia          |\n",
      "|municipio=Abaetetuba         |\n",
      "|municipio=Abaeté             |\n",
      "|municipio=Abaiara            |\n",
      "|municipio=Abaré              |\n",
      "|municipio=Abatiá             |\n",
      "|municipio=Abaíra             |\n",
      "|municipio=Abdon Batista      |\n",
      "|municipio=Abel Figueiredo    |\n",
      "|municipio=Abelardo Luz       |\n",
      "|municipio=Abre Campo         |\n",
      "|municipio=Abreu e Lima       |\n",
      "|municipio=Abreulândia        |\n",
      "|municipio=Acaiaca            |\n",
      "|municipio=Acajutiba          |\n",
      "|municipio=Acarape            |\n",
      "|municipio=Acaraú             |\n",
      "|municipio=Acari              |\n",
      "+-----------------------------+\n",
      "only showing top 20 rows\n",
      "\n"
     ]
    }
   ],
   "source": [
    "spark.sql(\"show partitions covid_p\").show(20, truncate = False)"
   ]
  }
 ],
 "metadata": {
  "kernelspec": {
   "display_name": "PySpark",
   "language": "python",
   "name": "pyspark"
  },
  "language_info": {
   "codemirror_mode": {
    "name": "ipython",
    "version": 3
   },
   "file_extension": ".py",
   "mimetype": "text/x-python",
   "name": "python",
   "nbconvert_exporter": "python",
   "pygments_lexer": "ipython3",
   "version": "3.6.10"
  }
 },
 "nbformat": 4,
 "nbformat_minor": 2
}
