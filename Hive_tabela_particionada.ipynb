{
 "cells": [
  {
   "cell_type": "raw",
   "id": "443319c6",
   "metadata": {},
   "source": [
    "1 - Foram utilizados os dados do site https://covid.saude.gov.br/"
   ]
  },
  {
   "cell_type": "raw",
   "id": "5cdf3d02",
   "metadata": {},
   "source": [
    "2 - Iniciar o cluster de big data:"
   ]
  },
  {
   "cell_type": "code",
   "execution_count": null,
   "id": "d0f41698",
   "metadata": {},
   "outputs": [],
   "source": [
    "docker-compose -f docker-compose-parcial.yml start"
   ]
  },
  {
   "cell_type": "code",
   "execution_count": null,
   "id": "38ba573d",
   "metadata": {},
   "outputs": [],
   "source": []
  },
  {
   "cell_type": "raw",
   "id": "51bbe30e",
   "metadata": {},
   "source": [
    "3 - Acessar container do namenode:"
   ]
  },
  {
   "cell_type": "code",
   "execution_count": null,
   "id": "5f5a2a78",
   "metadata": {},
   "outputs": [],
   "source": [
    "docker exec -it namenode bash"
   ]
  },
  {
   "cell_type": "code",
   "execution_count": null,
   "id": "510175ba",
   "metadata": {},
   "outputs": [],
   "source": []
  },
  {
   "cell_type": "raw",
   "id": "911e2713",
   "metadata": {},
   "source": [
    "4 - Criar diretório no hdfs e importar os arquivos:"
   ]
  },
  {
   "cell_type": "code",
   "execution_count": null,
   "id": "dfd23eb5",
   "metadata": {},
   "outputs": [],
   "source": [
    "hdfs dfs -mkdir /user/milena/covid"
   ]
  },
  {
   "cell_type": "code",
   "execution_count": null,
   "id": "c62fcdd3",
   "metadata": {},
   "outputs": [],
   "source": []
  },
  {
   "cell_type": "raw",
   "id": "8566dea3",
   "metadata": {},
   "source": [
    "5 - Importar os dados para dentro do diretório criado:"
   ]
  },
  {
   "cell_type": "code",
   "execution_count": null,
   "id": "07dececa",
   "metadata": {},
   "outputs": [],
   "source": [
    "hdfs dfs -put /input/dados1.csv /user/milena/covid"
   ]
  },
  {
   "cell_type": "code",
   "execution_count": null,
   "id": "c633d130",
   "metadata": {},
   "outputs": [],
   "source": []
  },
  {
   "cell_type": "markdown",
   "id": "dd25a131",
   "metadata": {},
   "source": [
    "6 - Verificar se os dados foram importados corretamente para dentro do diretório:"
   ]
  },
  {
   "cell_type": "code",
   "execution_count": null,
   "id": "87399291",
   "metadata": {},
   "outputs": [],
   "source": [
    "hdfs dfs -ls /user/milena/covid"
   ]
  },
  {
   "cell_type": "code",
   "execution_count": null,
   "id": "facac763",
   "metadata": {},
   "outputs": [],
   "source": []
  },
  {
   "cell_type": "raw",
   "id": "450003e0",
   "metadata": {},
   "source": [
    "7 - Acessar o Hive:"
   ]
  },
  {
   "cell_type": "code",
   "execution_count": null,
   "id": "36233f11",
   "metadata": {},
   "outputs": [],
   "source": [
    " docker exec -it hive-server bash"
   ]
  },
  {
   "cell_type": "code",
   "execution_count": null,
   "id": "339f5a30",
   "metadata": {},
   "outputs": [],
   "source": [
    "beeline -u jdbc:hive2://localhost:10000"
   ]
  },
  {
   "cell_type": "code",
   "execution_count": null,
   "id": "782fc49f",
   "metadata": {},
   "outputs": [],
   "source": []
  },
  {
   "cell_type": "raw",
   "id": "bcc8c32a",
   "metadata": {},
   "source": [
    "8 - Listar banco de dados:"
   ]
  },
  {
   "cell_type": "code",
   "execution_count": null,
   "id": "840fbe8c",
   "metadata": {},
   "outputs": [],
   "source": [
    "show databases;"
   ]
  },
  {
   "cell_type": "code",
   "execution_count": null,
   "id": "44ecdbe4",
   "metadata": {},
   "outputs": [],
   "source": [
    "use milena;"
   ]
  },
  {
   "cell_type": "code",
   "execution_count": null,
   "id": "34e7f382",
   "metadata": {},
   "outputs": [],
   "source": []
  },
  {
   "cell_type": "raw",
   "id": "9bfd4e3c",
   "metadata": {},
   "source": [
    "9 - Criar tabela dentro de um banco de dados no hive:"
   ]
  },
  {
   "cell_type": "raw",
   "id": "cc358269",
   "metadata": {},
   "source": [
    "create table dados (\n",
    ". . . . . . . . . . . . . . . .> regiao string, estado string, data date, pop int, casosa int, casosn int, obitosa int, obitosn int, recup varchar(10), acomp varchar(10), municipio string)\n",
    ". . . . . . . . . . . . . . . .> row format delimited\n",
    ". . . . . . . . . . . . . . . .> fields terminated by ','\n",
    ". . . . . . . . . . . . . . . .> lines terminated by '\\n'\n",
    ". . . . . . . . . . . . . . . .> stored as textfile\n",
    ". . . . . . . . . . . . . . . .> tblproperties(\"skip.header.line.count\"=\"1\");\n"
   ]
  },
  {
   "cell_type": "code",
   "execution_count": null,
   "id": "a6d2f1b5",
   "metadata": {},
   "outputs": [],
   "source": []
  },
  {
   "cell_type": "raw",
   "id": "6d9005c8",
   "metadata": {},
   "source": [
    "10 - Importar os arquivos para dentro da tabela:"
   ]
  },
  {
   "cell_type": "code",
   "execution_count": null,
   "id": "07f77178",
   "metadata": {},
   "outputs": [],
   "source": [
    "load data inpath '/user/milena/covid/dados1.csv' overwrite into table dados;\n",
    "load data inpath '/user/milena/covid/dados2.csv' overwrite into table dados;\n",
    "load data inpath '/user/milena/covid/dados3.csv' overwrite into table dados;\n",
    "load data inpath '/user/milena/covid/dados4.csv' overwrite into table dados;\n",
    "load data inpath '/user/milena/covid/dados5.csv' overwrite into table dados;"
   ]
  },
  {
   "cell_type": "code",
   "execution_count": null,
   "id": "e2720c85",
   "metadata": {},
   "outputs": [],
   "source": []
  },
  {
   "cell_type": "raw",
   "id": "e15250b5",
   "metadata": {},
   "source": [
    "11 - Verificar quantidade de registros da tabela:"
   ]
  },
  {
   "cell_type": "code",
   "execution_count": null,
   "id": "e501a84e",
   "metadata": {},
   "outputs": [],
   "source": [
    "select count(*) as qtd_registros from dados;"
   ]
  },
  {
   "cell_type": "code",
   "execution_count": null,
   "id": "3bf2c431",
   "metadata": {},
   "outputs": [],
   "source": []
  },
  {
   "cell_type": "raw",
   "id": "2d60bea2",
   "metadata": {},
   "source": [
    "12 - Criar uma tabela particionada por municipio (tabela dinâmica):"
   ]
  },
  {
   "cell_type": "code",
   "execution_count": null,
   "id": "f1a1a229",
   "metadata": {},
   "outputs": [],
   "source": [
    "create table par_dados(\n",
    ". . . . . . . . . . . . . . . .> regiao string, estado string, data date, semanaEp int, populacao int, casosa int, casosn int, obitosa varchar(10), obitosn varchar(10), recup varchar(10), acomp varchar(10))\n",
    ". . . . . . . . . . . . . . . .> partitioned by (municipio string)\n",
    ". . . . . . . . . . . . . . . .> row format delimited\n",
    ". . . . . . . . . . . . . . . .> fields terminated by ','\n",
    ". . . . . . . . . . . . . . . .> lines terminated by '\\n'\n",
    ". . . . . . . . . . . . . . . .> tblproperties(\"skip.header.line.count\"=\"1\");\n"
   ]
  },
  {
   "cell_type": "code",
   "execution_count": null,
   "id": "976ca339",
   "metadata": {},
   "outputs": [],
   "source": []
  },
  {
   "cell_type": "markdown",
   "id": "8f81b00d",
   "metadata": {},
   "source": [
    "13 - Habilitar leitura de particionamento dinâmico:"
   ]
  },
  {
   "cell_type": "code",
   "execution_count": null,
   "id": "710106b9",
   "metadata": {},
   "outputs": [],
   "source": [
    "set hive.exec.dynamic.partition.mode=nonstrict;"
   ]
  },
  {
   "cell_type": "code",
   "execution_count": null,
   "id": "e643e678",
   "metadata": {},
   "outputs": [],
   "source": []
  },
  {
   "cell_type": "raw",
   "id": "024290e8",
   "metadata": {},
   "source": [
    "14 - Inserir partição por municipio:"
   ]
  },
  {
   "cell_type": "code",
   "execution_count": null,
   "id": "6f29b668",
   "metadata": {},
   "outputs": [],
   "source": [
    "insert overwrite table part_dados_covid partition (municipio) select regiao, estado, data, casos, municipio from dados_covid where municipio=\"Descoberto\";"
   ]
  },
  {
   "cell_type": "code",
   "execution_count": null,
   "id": "d5c1ce2c",
   "metadata": {},
   "outputs": [],
   "source": []
  },
  {
   "cell_type": "raw",
   "id": "3c5a2ba1",
   "metadata": {},
   "source": [
    "15 - Para deletar a consulta de partição:"
   ]
  },
  {
   "cell_type": "code",
   "execution_count": null,
   "id": "8c005e54",
   "metadata": {},
   "outputs": [],
   "source": [
    "alter table dados_p drop partition(municipio='Descoberto');"
   ]
  },
  {
   "cell_type": "code",
   "execution_count": null,
   "id": "e2bc4c0e",
   "metadata": {},
   "outputs": [],
   "source": []
  },
  {
   "cell_type": "code",
   "execution_count": null,
   "id": "e1045ccb",
   "metadata": {},
   "outputs": [],
   "source": []
  }
 ],
 "metadata": {
  "kernelspec": {
   "display_name": "Python 3 (ipykernel)",
   "language": "python",
   "name": "python3"
  },
  "language_info": {
   "codemirror_mode": {
    "name": "ipython",
    "version": 3
   },
   "file_extension": ".py",
   "mimetype": "text/x-python",
   "name": "python",
   "nbconvert_exporter": "python",
   "pygments_lexer": "ipython3",
   "version": "3.8.10"
  }
 },
 "nbformat": 4,
 "nbformat_minor": 5
}
